{
 "cells": [
  {
   "cell_type": "markdown",
   "id": "great-twelve",
   "metadata": {},
   "source": [
    "## BOOTCAMP ÖDEV-2 / HAFTA-5"
   ]
  },
  {
   "cell_type": "markdown",
   "id": "handy-madrid",
   "metadata": {},
   "source": [
    "### Q1: One hot encoding modelin görmediği veriye nasıl uygulanır?\n",
    "\n",
    "Train-Test split yapılmadan önce tüm veriye One-Hot-Encoding uygulanabilir, böylece elimizdeki feature'ların tüm değerlerini korumuş oluruz. Ancak, sistem canlıya alındığında bu kategorik öznitelikler için farklı değerler gelebilir bu da kurduğumuz modelin hata vermesine neden olur. Bunu engellemek için gelen değeri elimizdeki değer listesinde aratıp eğer listede bulunmuyorsa yeni bir feature olarak tutabiliriz, bu fikri sorunsuzca uygulayabilmek için train setinde de fazladan bir kolon oluşturmamız gerekli (hatta her ana feature için unique değer sayısı + 1 kolon olmalı). Örneğin elimizde 'Meslek' özniteliği olsun ve datasetimizde feature'ın aldığı değerler = ['Öğretmen', 'Mühendis', 'Doktor'] olsun. Train-test ayrımı yapmadan OHE (one-hot-encoding) uygularsak model kurarken sorun yaşamayız. Kurduğumuz modeli canlıya aldığımızda gelen veride Meslek değeri 'Hakim' olursa daha önce böyle bir bilgiye sahip olmadığımızdan model çalışmaz. Bunun için OHE aşamasında Meslek feature'ını encodelarken 3+1 (len+1) yeni feature oluşturabiliriz, bu +1 feature'ı 'Other' olarak isimlendirebiliriz. En kötü senaryoda, elimizdeki tüm kategorik özniteliklerde daha önce görmediğimiz değerler gelebilir, bunun için de OHE aşamasında her öznitelik için aldığı unique değerler sayısı + 1 feature oluşturarak durumu idare edebiliriz. Yeni gördüğümüz değerler belli bir artış gösterdiğinde modeli güncelleyebiliriz. Sunduğum çözüm yolu ciddi boyut artışlarına sebep olur ve eklenen yeni sütunlarda çok fazla null değer bulunacaktır, OHE yerine Label Encoder kullanarak boyut artışından kaçınabiliriz, aynı şekilde modelin görmediği veriler Label Encoder için de sorun olacaktır, OHE için önerdiğim çözüm yolunu +1 feature oluşturmak yerine +1 class değeri oluşturarak çözebiliriz. Label Encoder ile Meslek feature'ı için class değerleri 'Doktor' = 0, 'Mühendis' = 1, 'Öğretmen' = 2, 'Other' = 3 olabilir."
   ]
  },
  {
   "cell_type": "markdown",
   "id": "physical-fellow",
   "metadata": {},
   "source": [
    "### Q2: Labelencoding'de ilgili kolon için ölçeklendirme nasıl yapılır? (Verinin doğru etkisiyle sayısal olarak dönüştürülmesi)\n",
    "\n",
    "Label Encoder, encoding işlemi yaparken feature değerlerini alfabetik sıralayarak numaralandırır, böylece kodu her çalıştırdığımızda aynı value için aynı encoding değerini görürüz. Alfabetik çalışma mantığını değiştirmek mümkündür, şöyle ki LabelEncoder okuduğu değerleri alfabetik sıralayarak le.classes_ ile tutar ve buradan index sırasına göre yazar. Eğer belirlediğimiz bir sıralama varsa, bu le.classes_ 'ı manipüle ederek kullanabiliriz. [örnek](https://stackoverflow.com/a/64336086/10380949)\n",
    "\n",
    "Sıralamayı nasıl yapmamız gerektiğini bilmiyorsak, random şekilde (olabilecek her türlü olasılığı kapsayarak) le_classes'ı manipüle edip encoding yapabilir, daha sonrasında hedef özellik ile korelasyonlarına bakıp karşılaştırabiliriz. Korelasyonu en yüksek veren kombinasyonu kullanabiliriz.\n",
    "Alternatif olarak, label encoding yaptığımız feature'ları da scale edebiliriz, böylece feature'lar arası kategori sayısı farkı ve feature içindeki değer ataması farkı azaltılabilir.\n",
    "\n",
    "+ Q1 ile Q2'ye bakıldığında, Q1 case'i (modelin görmediği veriler) için LabelEncoder, Q2 case'i için OHE'yi daha avantajlı görüyorum."
   ]
  },
  {
   "cell_type": "markdown",
   "id": "liquid-debut",
   "metadata": {},
   "source": [
    "### Q3: Imbalance datasette train test split yaparken neleri göz önünde bulundurmalıyız?\n",
    "\n",
    "SMOTE yöntemiyle verideki dengesizliği azaltmanın yanısıra, train-test split işleminde stratified metodunu kullanarak veriyi istatistiksel olarak dengeli ayırabiliriz. Fraud case'inden örnek vermek gerekirse, train sette 1 fraud başına 10 non-fraud sample düşüyorsa testte de benzer durum olmalıdır, bu da stratified parametresiyle sağlanabilir."
   ]
  },
  {
   "cell_type": "markdown",
   "id": "northern-indonesia",
   "metadata": {},
   "source": [
    "### Q4: Validation dataseti (modelin görmediği) nasıl oluşturulur ve nasıl predict etmeye hazır hale getirilir?\n",
    "\n",
    "Veriyi önce train-test diye ayırıp, daha sonra train setini kullanmadan önce train-validation olarak ayırabiliriz.\n",
    "Örnek sayımızın az olduğu durumlarda cross-validation, leave-one-out veya bootstrap metodlarını kullanmayı düşünebiliriz.\n",
    "Unutulmamalıdır ki, modeli train'e hazırlarken yaptığımız her işlem (encoding,standardization vb.) validation ve test setlerinde de uygulanmalıdır."
   ]
  },
  {
   "cell_type": "markdown",
   "id": "tough-dryer",
   "metadata": {},
   "source": [
    "### Q5: predict_proba metoduyla oran nasıl hesaplanır ve treshold nasıl değiştirilir?\n",
    "\n",
    "predict_proba metoduyla, model fit edilirken verilerin hangi class'a ait olma olasılıklarını görebiliriz. Fraud örneği için fraud class'ını 1, non-fraud'u sıfır alırsak, 1'e yakın değerler o örneğin fraud olma olasılığının yüksek olduğunu gösterir (olasılıklar toplamının 1 olacağını unutmayalım). Metod vasıtasıyla eğittiğimiz tüm örneklerin olasılıklarını görebilir, bu olasılıkları inceleyip ortalamasını yahut medyanını hesaplayarak yeni bir threshold değeri oluşturabiliriz. Default olarak threshold değeri 0.5'tir, isteğe göre bu eşik düşürelebilir veya yükseltilebilir. \n",
    "[bknz](https://stackoverflow.com/a/50345409/10380949)"
   ]
  },
  {
   "cell_type": "markdown",
   "id": "closed-dialogue",
   "metadata": {},
   "source": [
    "### Q6: Fraud case'i üzerinde train&test&validation split, encoding, scaling,modelleme çalışmaları Python'da yapılarak, modelin görmediği dataset üzerinde başarılı sonuç alacak bir model örneği yapılmalı.\n",
    "\n",
    "Kodları aşağıda bulabilirsiniz."
   ]
  },
  {
   "cell_type": "code",
   "execution_count": 36,
   "id": "bulgarian-swiss",
   "metadata": {},
   "outputs": [],
   "source": [
    "# gerekli kütüphaneler import edilir\n",
    "import pandas as pd\n",
    "import numpy as np\n",
    "\n",
    "from sklearn.model_selection import train_test_split\n",
    "from sklearn.metrics import classification_report\n",
    "from sklearn.metrics import confusion_matrix\n",
    "\n",
    "from sklearn.preprocessing import LabelEncoder\n",
    "from imblearn.over_sampling import SMOTE\n",
    "import random"
   ]
  },
  {
   "cell_type": "code",
   "execution_count": 37,
   "id": "fifty-match",
   "metadata": {},
   "outputs": [
    {
     "name": "stderr",
     "output_type": "stream",
     "text": [
      "C:\\Anaconda3\\lib\\site-packages\\ipykernel_launcher.py:21: FutureWarning: The default value of regex will change from True to False in a future version.\n"
     ]
    }
   ],
   "source": [
    "# veri yüklenir ve manipüle edilerek eğitime hazırlanır\n",
    "\n",
    "addr = r'C:\\Users\\Asus\\Desktop\\Bootcamp\\auto_insurance_csv.csv'\n",
    "df = pd.read_csv(addr)\n",
    "df = df.drop(['_c39','Unnamed: 0'], axis = 1)\n",
    "df['umbrella_limit'] = df.umbrella_limit.fillna(\"9999\")\n",
    "df['police_report_available'] = df.police_report_available.fillna(\"MISSING\")\n",
    "df['policy_csl'] = df.policy_csl.fillna(\"MISSING\")\n",
    "df['policy_bind_date'] = pd.to_datetime(df['policy_bind_date'])\n",
    "df['incident_date'] = pd.to_datetime(df['incident_date'])\n",
    "df['claim_day_of_policy'] = (df.incident_date -  df.policy_bind_date).dt.days\n",
    "df['location_check'] = np.nan\n",
    "df['location_check'] = np.where(df['policy_state'] == df['incident_state'], True, False)\n",
    "df['fraud_reported'] = df['fraud_reported'].str.replace('Y', '1')\n",
    "df['fraud_reported'] = df['fraud_reported'].str.replace('N', '0')\n",
    "df['fraud_reported'] = df['fraud_reported'].astype(int)\n",
    "df['umbrella_limit'] = df.umbrella_limit.astype(str)\n",
    "umbrealla = df['umbrella_limit'].unique()\n",
    "for umb in umbrealla:\n",
    "    if (umb != '0.0') & (umb != '9999'):\n",
    "        df['umbrella_limit'] = df['umbrella_limit'].str.replace(umb, 'other')\n",
    "    \n",
    "hobbies = df['insured_hobbies'].unique()\n",
    "for hobby in hobbies:\n",
    "    if (hobby != 'chess') & (hobby != 'cross-fit'):\n",
    "        df['insured_hobbies'] = df['insured_hobbies'].str.replace(hobby, 'other')\n",
    "\n",
    "df['age'] = df.age.fillna(9999)\n",
    "bin_labels = ['15-20', '21-25', '26-30', '31-35', '36-40', '41-45', '46-50', '51-55', '56-60', '61-65','9999']\n",
    "bins = [15, 20, 25, 30, 35, 40, 45, 50, 55, 60, 65, 9999]\n",
    "\n",
    "df['age_group'] = pd.cut(df['age'], bins = bins, labels = bin_labels, include_lowest = True)\n",
    "bins = [0, 50, 100, 150, 200, 250, 300, 350, 400, 450, 500]\n",
    "bin_labels = ['0-50','51-100','101-150','151-200','201-250','251-300','301-350','351-400','401-450','451-500']\n",
    "\n",
    "df['months_as_customer_groups'] = pd.cut(df['months_as_customer'], bins = 10, labels = bin_labels, include_lowest= True)\n",
    "bins = list(np.linspace(0,2500, 6, dtype = int))\n",
    "bin_labels = ['very low', 'low', 'medium', 'high', 'very high']\n",
    "\n",
    "df['policy_annual_premium_groups'] = pd.cut(df['policy_annual_premium'], bins = bins, labels=bin_labels)\n",
    "bins = list(np.linspace(0,2000, 5, dtype = int))\n",
    "bin_labels = ['0-500', '501-1000', '1001-1500', '1501-2000']\n",
    "\n",
    "df['policy_deductable_group'] = pd.cut(df['policy_deductable'], bins = bins, labels = bin_labels)\n",
    "\n",
    "df = df.drop(['age', 'months_as_customer', 'policy_deductable', 'policy_annual_premium'], axis = 1)\n",
    "required_columns = ['incident_date','policy_state', 'policy_csl', 'umbrella_limit',\n",
    "       'insured_zip', 'insured_sex', 'insured_education_level',\n",
    "       'insured_occupation', 'insured_hobbies', 'insured_relationship',\n",
    "       'capital-gains', 'capital-loss', 'incident_type', 'collision_type',\n",
    "       'incident_severity', 'authorities_contacted', 'incident_state',\n",
    "       'incident_city', 'incident_location', 'incident_hour_of_the_day',\n",
    "       'number_of_vehicles_involved', 'property_damage', 'bodily_injuries',\n",
    "       'witnesses', 'police_report_available', 'total_claim_amount','auto_make',\n",
    "       'auto_model', 'auto_year', 'fraud_reported', 'claim_day_of_policy',\n",
    "       'location_check', 'age_group', 'months_as_customer_groups',\n",
    "       'policy_annual_premium_groups', 'policy_deductable_group']\n",
    "df1 = df[required_columns]"
   ]
  },
  {
   "cell_type": "code",
   "execution_count": 3,
   "id": "handled-latex",
   "metadata": {},
   "outputs": [
    {
     "data": {
      "text/html": [
       "<div>\n",
       "<style scoped>\n",
       "    .dataframe tbody tr th:only-of-type {\n",
       "        vertical-align: middle;\n",
       "    }\n",
       "\n",
       "    .dataframe tbody tr th {\n",
       "        vertical-align: top;\n",
       "    }\n",
       "\n",
       "    .dataframe thead th {\n",
       "        text-align: right;\n",
       "    }\n",
       "</style>\n",
       "<table border=\"1\" class=\"dataframe\">\n",
       "  <thead>\n",
       "    <tr style=\"text-align: right;\">\n",
       "      <th></th>\n",
       "      <th>incident_date</th>\n",
       "      <th>policy_state</th>\n",
       "      <th>policy_csl</th>\n",
       "      <th>umbrella_limit</th>\n",
       "      <th>insured_zip</th>\n",
       "      <th>insured_sex</th>\n",
       "      <th>insured_education_level</th>\n",
       "      <th>insured_occupation</th>\n",
       "      <th>insured_hobbies</th>\n",
       "      <th>insured_relationship</th>\n",
       "      <th>...</th>\n",
       "      <th>auto_make</th>\n",
       "      <th>auto_model</th>\n",
       "      <th>auto_year</th>\n",
       "      <th>fraud_reported</th>\n",
       "      <th>claim_day_of_policy</th>\n",
       "      <th>location_check</th>\n",
       "      <th>age_group</th>\n",
       "      <th>months_as_customer_groups</th>\n",
       "      <th>policy_annual_premium_groups</th>\n",
       "      <th>policy_deductable_group</th>\n",
       "    </tr>\n",
       "  </thead>\n",
       "  <tbody>\n",
       "    <tr>\n",
       "      <th>0</th>\n",
       "      <td>2015-01-25</td>\n",
       "      <td>OH</td>\n",
       "      <td>250/500</td>\n",
       "      <td>0.0</td>\n",
       "      <td>466132</td>\n",
       "      <td>MALE</td>\n",
       "      <td>MD</td>\n",
       "      <td>craft-repair</td>\n",
       "      <td>other</td>\n",
       "      <td>husband</td>\n",
       "      <td>...</td>\n",
       "      <td>Saab</td>\n",
       "      <td>92x</td>\n",
       "      <td>2004</td>\n",
       "      <td>1</td>\n",
       "      <td>100</td>\n",
       "      <td>False</td>\n",
       "      <td>46-50</td>\n",
       "      <td>301-350</td>\n",
       "      <td>medium</td>\n",
       "      <td>501-1000</td>\n",
       "    </tr>\n",
       "    <tr>\n",
       "      <th>1</th>\n",
       "      <td>2015-01-21</td>\n",
       "      <td>IN</td>\n",
       "      <td>250/500</td>\n",
       "      <td>other</td>\n",
       "      <td>468176</td>\n",
       "      <td>MALE</td>\n",
       "      <td>MD</td>\n",
       "      <td>machine-op-inspct</td>\n",
       "      <td>other</td>\n",
       "      <td>other-relative</td>\n",
       "      <td>...</td>\n",
       "      <td>Mercedes</td>\n",
       "      <td>E400</td>\n",
       "      <td>2007</td>\n",
       "      <td>1</td>\n",
       "      <td>3130</td>\n",
       "      <td>False</td>\n",
       "      <td>41-45</td>\n",
       "      <td>201-250</td>\n",
       "      <td>medium</td>\n",
       "      <td>1501-2000</td>\n",
       "    </tr>\n",
       "    <tr>\n",
       "      <th>2</th>\n",
       "      <td>2015-02-22</td>\n",
       "      <td>OH</td>\n",
       "      <td>MISSING</td>\n",
       "      <td>other</td>\n",
       "      <td>430632</td>\n",
       "      <td>FEMALE</td>\n",
       "      <td>PhD</td>\n",
       "      <td>sales</td>\n",
       "      <td>other</td>\n",
       "      <td>own-child</td>\n",
       "      <td>...</td>\n",
       "      <td>Dodge</td>\n",
       "      <td>RAM</td>\n",
       "      <td>2007</td>\n",
       "      <td>0</td>\n",
       "      <td>5282</td>\n",
       "      <td>False</td>\n",
       "      <td>26-30</td>\n",
       "      <td>101-150</td>\n",
       "      <td>medium</td>\n",
       "      <td>1501-2000</td>\n",
       "    </tr>\n",
       "    <tr>\n",
       "      <th>3</th>\n",
       "      <td>2015-01-10</td>\n",
       "      <td>IL</td>\n",
       "      <td>MISSING</td>\n",
       "      <td>other</td>\n",
       "      <td>608117</td>\n",
       "      <td>FEMALE</td>\n",
       "      <td>PhD</td>\n",
       "      <td>armed-forces</td>\n",
       "      <td>other</td>\n",
       "      <td>unmarried</td>\n",
       "      <td>...</td>\n",
       "      <td>Chevrolet</td>\n",
       "      <td>Tahoe</td>\n",
       "      <td>2014</td>\n",
       "      <td>1</td>\n",
       "      <td>8996</td>\n",
       "      <td>False</td>\n",
       "      <td>41-45</td>\n",
       "      <td>251-300</td>\n",
       "      <td>medium</td>\n",
       "      <td>1501-2000</td>\n",
       "    </tr>\n",
       "    <tr>\n",
       "      <th>4</th>\n",
       "      <td>2015-02-17</td>\n",
       "      <td>IL</td>\n",
       "      <td>MISSING</td>\n",
       "      <td>other</td>\n",
       "      <td>610706</td>\n",
       "      <td>MALE</td>\n",
       "      <td>Associate</td>\n",
       "      <td>sales</td>\n",
       "      <td>other</td>\n",
       "      <td>unmarried</td>\n",
       "      <td>...</td>\n",
       "      <td>Accura</td>\n",
       "      <td>RSX</td>\n",
       "      <td>2009</td>\n",
       "      <td>0</td>\n",
       "      <td>256</td>\n",
       "      <td>False</td>\n",
       "      <td>41-45</td>\n",
       "      <td>201-250</td>\n",
       "      <td>high</td>\n",
       "      <td>501-1000</td>\n",
       "    </tr>\n",
       "    <tr>\n",
       "      <th>5</th>\n",
       "      <td>2015-01-02</td>\n",
       "      <td>OH</td>\n",
       "      <td>MISSING</td>\n",
       "      <td>0.0</td>\n",
       "      <td>478456</td>\n",
       "      <td>FEMALE</td>\n",
       "      <td>PhD</td>\n",
       "      <td>tech-support</td>\n",
       "      <td>other</td>\n",
       "      <td>unmarried</td>\n",
       "      <td>...</td>\n",
       "      <td>Saab</td>\n",
       "      <td>95</td>\n",
       "      <td>2003</td>\n",
       "      <td>1</td>\n",
       "      <td>3004</td>\n",
       "      <td>False</td>\n",
       "      <td>36-40</td>\n",
       "      <td>251-300</td>\n",
       "      <td>medium</td>\n",
       "      <td>501-1000</td>\n",
       "    </tr>\n",
       "    <tr>\n",
       "      <th>6</th>\n",
       "      <td>2015-01-13</td>\n",
       "      <td>IN</td>\n",
       "      <td>MISSING</td>\n",
       "      <td>0.0</td>\n",
       "      <td>441716</td>\n",
       "      <td>MALE</td>\n",
       "      <td>PhD</td>\n",
       "      <td>prof-specialty</td>\n",
       "      <td>other</td>\n",
       "      <td>husband</td>\n",
       "      <td>...</td>\n",
       "      <td>Nissan</td>\n",
       "      <td>Pathfinder</td>\n",
       "      <td>2012</td>\n",
       "      <td>0</td>\n",
       "      <td>5336</td>\n",
       "      <td>False</td>\n",
       "      <td>31-35</td>\n",
       "      <td>101-150</td>\n",
       "      <td>medium</td>\n",
       "      <td>501-1000</td>\n",
       "    </tr>\n",
       "    <tr>\n",
       "      <th>7</th>\n",
       "      <td>2015-02-27</td>\n",
       "      <td>IL</td>\n",
       "      <td>MISSING</td>\n",
       "      <td>0.0</td>\n",
       "      <td>603195</td>\n",
       "      <td>MALE</td>\n",
       "      <td>Associate</td>\n",
       "      <td>tech-support</td>\n",
       "      <td>other</td>\n",
       "      <td>unmarried</td>\n",
       "      <td>...</td>\n",
       "      <td>Audi</td>\n",
       "      <td>A5</td>\n",
       "      <td>2015</td>\n",
       "      <td>0</td>\n",
       "      <td>9155</td>\n",
       "      <td>False</td>\n",
       "      <td>36-40</td>\n",
       "      <td>151-200</td>\n",
       "      <td>medium</td>\n",
       "      <td>501-1000</td>\n",
       "    </tr>\n",
       "    <tr>\n",
       "      <th>8</th>\n",
       "      <td>2015-01-30</td>\n",
       "      <td>IL</td>\n",
       "      <td>MISSING</td>\n",
       "      <td>0.0</td>\n",
       "      <td>601734</td>\n",
       "      <td>FEMALE</td>\n",
       "      <td>PhD</td>\n",
       "      <td>other-service</td>\n",
       "      <td>other</td>\n",
       "      <td>own-child</td>\n",
       "      <td>...</td>\n",
       "      <td>Toyota</td>\n",
       "      <td>Camry</td>\n",
       "      <td>2012</td>\n",
       "      <td>0</td>\n",
       "      <td>6568</td>\n",
       "      <td>False</td>\n",
       "      <td>31-35</td>\n",
       "      <td>0-50</td>\n",
       "      <td>medium</td>\n",
       "      <td>0-500</td>\n",
       "    </tr>\n",
       "    <tr>\n",
       "      <th>9</th>\n",
       "      <td>2015-01-05</td>\n",
       "      <td>IL</td>\n",
       "      <td>MISSING</td>\n",
       "      <td>9999</td>\n",
       "      <td>600983</td>\n",
       "      <td>MALE</td>\n",
       "      <td>PhD</td>\n",
       "      <td>priv-house-serv</td>\n",
       "      <td>other</td>\n",
       "      <td>wife</td>\n",
       "      <td>...</td>\n",
       "      <td>Saab</td>\n",
       "      <td>92x</td>\n",
       "      <td>1996</td>\n",
       "      <td>0</td>\n",
       "      <td>1260</td>\n",
       "      <td>False</td>\n",
       "      <td>41-45</td>\n",
       "      <td>201-250</td>\n",
       "      <td>medium</td>\n",
       "      <td>0-500</td>\n",
       "    </tr>\n",
       "  </tbody>\n",
       "</table>\n",
       "<p>10 rows × 36 columns</p>\n",
       "</div>"
      ],
      "text/plain": [
       "  incident_date policy_state policy_csl umbrella_limit  insured_zip  \\\n",
       "0    2015-01-25           OH    250/500            0.0       466132   \n",
       "1    2015-01-21           IN    250/500          other       468176   \n",
       "2    2015-02-22           OH    MISSING          other       430632   \n",
       "3    2015-01-10           IL    MISSING          other       608117   \n",
       "4    2015-02-17           IL    MISSING          other       610706   \n",
       "5    2015-01-02           OH    MISSING            0.0       478456   \n",
       "6    2015-01-13           IN    MISSING            0.0       441716   \n",
       "7    2015-02-27           IL    MISSING            0.0       603195   \n",
       "8    2015-01-30           IL    MISSING            0.0       601734   \n",
       "9    2015-01-05           IL    MISSING           9999       600983   \n",
       "\n",
       "  insured_sex insured_education_level insured_occupation insured_hobbies  \\\n",
       "0        MALE                      MD       craft-repair           other   \n",
       "1        MALE                      MD  machine-op-inspct           other   \n",
       "2      FEMALE                     PhD              sales           other   \n",
       "3      FEMALE                     PhD       armed-forces           other   \n",
       "4        MALE               Associate              sales           other   \n",
       "5      FEMALE                     PhD       tech-support           other   \n",
       "6        MALE                     PhD     prof-specialty           other   \n",
       "7        MALE               Associate       tech-support           other   \n",
       "8      FEMALE                     PhD      other-service           other   \n",
       "9        MALE                     PhD    priv-house-serv           other   \n",
       "\n",
       "  insured_relationship  ...  auto_make  auto_model auto_year fraud_reported  \\\n",
       "0              husband  ...       Saab         92x      2004              1   \n",
       "1       other-relative  ...   Mercedes        E400      2007              1   \n",
       "2            own-child  ...      Dodge         RAM      2007              0   \n",
       "3            unmarried  ...  Chevrolet       Tahoe      2014              1   \n",
       "4            unmarried  ...     Accura         RSX      2009              0   \n",
       "5            unmarried  ...       Saab          95      2003              1   \n",
       "6              husband  ...     Nissan  Pathfinder      2012              0   \n",
       "7            unmarried  ...       Audi          A5      2015              0   \n",
       "8            own-child  ...     Toyota       Camry      2012              0   \n",
       "9                 wife  ...       Saab         92x      1996              0   \n",
       "\n",
       "  claim_day_of_policy location_check age_group months_as_customer_groups  \\\n",
       "0                 100          False     46-50                   301-350   \n",
       "1                3130          False     41-45                   201-250   \n",
       "2                5282          False     26-30                   101-150   \n",
       "3                8996          False     41-45                   251-300   \n",
       "4                 256          False     41-45                   201-250   \n",
       "5                3004          False     36-40                   251-300   \n",
       "6                5336          False     31-35                   101-150   \n",
       "7                9155          False     36-40                   151-200   \n",
       "8                6568          False     31-35                      0-50   \n",
       "9                1260          False     41-45                   201-250   \n",
       "\n",
       "  policy_annual_premium_groups  policy_deductable_group  \n",
       "0                       medium                 501-1000  \n",
       "1                       medium                1501-2000  \n",
       "2                       medium                1501-2000  \n",
       "3                       medium                1501-2000  \n",
       "4                         high                 501-1000  \n",
       "5                       medium                 501-1000  \n",
       "6                       medium                 501-1000  \n",
       "7                       medium                 501-1000  \n",
       "8                       medium                    0-500  \n",
       "9                       medium                    0-500  \n",
       "\n",
       "[10 rows x 36 columns]"
      ]
     },
     "execution_count": 3,
     "metadata": {},
     "output_type": "execute_result"
    }
   ],
   "source": [
    "df1.head(10)"
   ]
  },
  {
   "cell_type": "code",
   "execution_count": 4,
   "id": "blocked-color",
   "metadata": {},
   "outputs": [
    {
     "name": "stdout",
     "output_type": "stream",
     "text": [
      "<class 'pandas.core.frame.DataFrame'>\n",
      "RangeIndex: 1000 entries, 0 to 999\n",
      "Data columns (total 36 columns):\n",
      " #   Column                        Non-Null Count  Dtype         \n",
      "---  ------                        --------------  -----         \n",
      " 0   incident_date                 1000 non-null   datetime64[ns]\n",
      " 1   policy_state                  1000 non-null   object        \n",
      " 2   policy_csl                    1000 non-null   object        \n",
      " 3   umbrella_limit                1000 non-null   object        \n",
      " 4   insured_zip                   1000 non-null   int64         \n",
      " 5   insured_sex                   1000 non-null   object        \n",
      " 6   insured_education_level       1000 non-null   object        \n",
      " 7   insured_occupation            1000 non-null   object        \n",
      " 8   insured_hobbies               1000 non-null   object        \n",
      " 9   insured_relationship          1000 non-null   object        \n",
      " 10  capital-gains                 1000 non-null   int64         \n",
      " 11  capital-loss                  1000 non-null   int64         \n",
      " 12  incident_type                 1000 non-null   object        \n",
      " 13  collision_type                1000 non-null   object        \n",
      " 14  incident_severity             1000 non-null   object        \n",
      " 15  authorities_contacted         1000 non-null   object        \n",
      " 16  incident_state                1000 non-null   object        \n",
      " 17  incident_city                 1000 non-null   object        \n",
      " 18  incident_location             1000 non-null   object        \n",
      " 19  incident_hour_of_the_day      1000 non-null   int64         \n",
      " 20  number_of_vehicles_involved   1000 non-null   int64         \n",
      " 21  property_damage               1000 non-null   object        \n",
      " 22  bodily_injuries               1000 non-null   int64         \n",
      " 23  witnesses                     1000 non-null   int64         \n",
      " 24  police_report_available       1000 non-null   object        \n",
      " 25  total_claim_amount            1000 non-null   int64         \n",
      " 26  auto_make                     1000 non-null   object        \n",
      " 27  auto_model                    1000 non-null   object        \n",
      " 28  auto_year                     1000 non-null   int64         \n",
      " 29  fraud_reported                1000 non-null   int32         \n",
      " 30  claim_day_of_policy           1000 non-null   int64         \n",
      " 31  location_check                1000 non-null   bool          \n",
      " 32  age_group                     1000 non-null   category      \n",
      " 33  months_as_customer_groups     1000 non-null   category      \n",
      " 34  policy_annual_premium_groups  1000 non-null   category      \n",
      " 35  policy_deductable_group       1000 non-null   category      \n",
      "dtypes: bool(1), category(4), datetime64[ns](1), int32(1), int64(10), object(19)\n",
      "memory usage: 244.4+ KB\n"
     ]
    }
   ],
   "source": [
    "data.info() # işlenen datada null bulunmamaktadır"
   ]
  },
  {
   "cell_type": "markdown",
   "id": "smart-effort",
   "metadata": {},
   "source": [
    "### data için gerekli manipülasyonlar yapıldı, model kurma aşamasına hazırlık için encoding, scaling, smote ve split işlemleri yapılacaktır"
   ]
  },
  {
   "cell_type": "code",
   "execution_count": 5,
   "id": "disturbed-malpractice",
   "metadata": {},
   "outputs": [
    {
     "name": "stderr",
     "output_type": "stream",
     "text": [
      "C:\\Anaconda3\\lib\\site-packages\\ipykernel_launcher.py:3: SettingWithCopyWarning: \n",
      "A value is trying to be set on a copy of a slice from a DataFrame.\n",
      "Try using .loc[row_indexer,col_indexer] = value instead\n",
      "\n",
      "See the caveats in the documentation: https://pandas.pydata.org/pandas-docs/stable/user_guide/indexing.html#returning-a-view-versus-a-copy\n",
      "  This is separate from the ipykernel package so we can avoid doing imports until\n"
     ]
    },
    {
     "data": {
      "text/plain": [
       "['policy_state',\n",
       " 'policy_csl',\n",
       " 'umbrella_limit',\n",
       " 'insured_sex',\n",
       " 'insured_education_level',\n",
       " 'insured_occupation',\n",
       " 'insured_hobbies',\n",
       " 'insured_relationship',\n",
       " 'incident_type',\n",
       " 'collision_type',\n",
       " 'incident_severity',\n",
       " 'authorities_contacted',\n",
       " 'incident_state',\n",
       " 'incident_city',\n",
       " 'incident_location',\n",
       " 'property_damage',\n",
       " 'police_report_available',\n",
       " 'auto_make',\n",
       " 'auto_model',\n",
       " 'location_check',\n",
       " 'age_group',\n",
       " 'months_as_customer_groups',\n",
       " 'policy_annual_premium_groups',\n",
       " 'policy_deductable_group']"
      ]
     },
     "execution_count": 5,
     "metadata": {},
     "output_type": "execute_result"
    }
   ],
   "source": [
    "cat_cols = ['age_group', 'months_as_customer_groups', 'policy_annual_premium_groups','location_check','policy_deductable_group']\n",
    "for col in cat_cols:\n",
    "    df1[col] = df1[col].astype('object')\n",
    "\n",
    "columns_to_encode = []\n",
    "for col in df1.columns:\n",
    "    if df1[col].dtype == 'object':\n",
    "        columns_to_encode.append(col)\n",
    "\n",
    "columns_to_encode # kategorik sütunlar encode edilmek üzere listelendi"
   ]
  },
  {
   "cell_type": "code",
   "execution_count": 6,
   "id": "developed-aside",
   "metadata": {},
   "outputs": [
    {
     "name": "stderr",
     "output_type": "stream",
     "text": [
      "C:\\Anaconda3\\lib\\site-packages\\pandas\\core\\frame.py:4312: SettingWithCopyWarning: \n",
      "A value is trying to be set on a copy of a slice from a DataFrame\n",
      "\n",
      "See the caveats in the documentation: https://pandas.pydata.org/pandas-docs/stable/user_guide/indexing.html#returning-a-view-versus-a-copy\n",
      "  errors=errors,\n"
     ]
    },
    {
     "data": {
      "text/html": [
       "<div>\n",
       "<style scoped>\n",
       "    .dataframe tbody tr th:only-of-type {\n",
       "        vertical-align: middle;\n",
       "    }\n",
       "\n",
       "    .dataframe tbody tr th {\n",
       "        vertical-align: top;\n",
       "    }\n",
       "\n",
       "    .dataframe thead th {\n",
       "        text-align: right;\n",
       "    }\n",
       "</style>\n",
       "<table border=\"1\" class=\"dataframe\">\n",
       "  <thead>\n",
       "    <tr style=\"text-align: right;\">\n",
       "      <th></th>\n",
       "      <th>policy_state</th>\n",
       "      <th>policy_csl</th>\n",
       "      <th>umbrella_limit</th>\n",
       "      <th>insured_zip</th>\n",
       "      <th>insured_sex</th>\n",
       "      <th>insured_education_level</th>\n",
       "      <th>insured_occupation</th>\n",
       "      <th>insured_hobbies</th>\n",
       "      <th>insured_relationship</th>\n",
       "      <th>capital-gains</th>\n",
       "      <th>...</th>\n",
       "      <th>auto_make</th>\n",
       "      <th>auto_model</th>\n",
       "      <th>auto_year</th>\n",
       "      <th>fraud_reported</th>\n",
       "      <th>claim_day_of_policy</th>\n",
       "      <th>location_check</th>\n",
       "      <th>age_group</th>\n",
       "      <th>months_as_customer_groups</th>\n",
       "      <th>policy_annual_premium_groups</th>\n",
       "      <th>policy_deductable_group</th>\n",
       "    </tr>\n",
       "  </thead>\n",
       "  <tbody>\n",
       "    <tr>\n",
       "      <th>0</th>\n",
       "      <td>OH</td>\n",
       "      <td>250/500</td>\n",
       "      <td>0.0</td>\n",
       "      <td>466132</td>\n",
       "      <td>MALE</td>\n",
       "      <td>MD</td>\n",
       "      <td>craft-repair</td>\n",
       "      <td>other</td>\n",
       "      <td>husband</td>\n",
       "      <td>53300</td>\n",
       "      <td>...</td>\n",
       "      <td>Saab</td>\n",
       "      <td>92x</td>\n",
       "      <td>2004</td>\n",
       "      <td>1</td>\n",
       "      <td>100</td>\n",
       "      <td>False</td>\n",
       "      <td>46-50</td>\n",
       "      <td>301-350</td>\n",
       "      <td>medium</td>\n",
       "      <td>501-1000</td>\n",
       "    </tr>\n",
       "    <tr>\n",
       "      <th>1</th>\n",
       "      <td>IN</td>\n",
       "      <td>250/500</td>\n",
       "      <td>other</td>\n",
       "      <td>468176</td>\n",
       "      <td>MALE</td>\n",
       "      <td>MD</td>\n",
       "      <td>machine-op-inspct</td>\n",
       "      <td>other</td>\n",
       "      <td>other-relative</td>\n",
       "      <td>0</td>\n",
       "      <td>...</td>\n",
       "      <td>Mercedes</td>\n",
       "      <td>E400</td>\n",
       "      <td>2007</td>\n",
       "      <td>1</td>\n",
       "      <td>3130</td>\n",
       "      <td>False</td>\n",
       "      <td>41-45</td>\n",
       "      <td>201-250</td>\n",
       "      <td>medium</td>\n",
       "      <td>1501-2000</td>\n",
       "    </tr>\n",
       "    <tr>\n",
       "      <th>2</th>\n",
       "      <td>OH</td>\n",
       "      <td>MISSING</td>\n",
       "      <td>other</td>\n",
       "      <td>430632</td>\n",
       "      <td>FEMALE</td>\n",
       "      <td>PhD</td>\n",
       "      <td>sales</td>\n",
       "      <td>other</td>\n",
       "      <td>own-child</td>\n",
       "      <td>35100</td>\n",
       "      <td>...</td>\n",
       "      <td>Dodge</td>\n",
       "      <td>RAM</td>\n",
       "      <td>2007</td>\n",
       "      <td>0</td>\n",
       "      <td>5282</td>\n",
       "      <td>False</td>\n",
       "      <td>26-30</td>\n",
       "      <td>101-150</td>\n",
       "      <td>medium</td>\n",
       "      <td>1501-2000</td>\n",
       "    </tr>\n",
       "    <tr>\n",
       "      <th>3</th>\n",
       "      <td>IL</td>\n",
       "      <td>MISSING</td>\n",
       "      <td>other</td>\n",
       "      <td>608117</td>\n",
       "      <td>FEMALE</td>\n",
       "      <td>PhD</td>\n",
       "      <td>armed-forces</td>\n",
       "      <td>other</td>\n",
       "      <td>unmarried</td>\n",
       "      <td>48900</td>\n",
       "      <td>...</td>\n",
       "      <td>Chevrolet</td>\n",
       "      <td>Tahoe</td>\n",
       "      <td>2014</td>\n",
       "      <td>1</td>\n",
       "      <td>8996</td>\n",
       "      <td>False</td>\n",
       "      <td>41-45</td>\n",
       "      <td>251-300</td>\n",
       "      <td>medium</td>\n",
       "      <td>1501-2000</td>\n",
       "    </tr>\n",
       "    <tr>\n",
       "      <th>4</th>\n",
       "      <td>IL</td>\n",
       "      <td>MISSING</td>\n",
       "      <td>other</td>\n",
       "      <td>610706</td>\n",
       "      <td>MALE</td>\n",
       "      <td>Associate</td>\n",
       "      <td>sales</td>\n",
       "      <td>other</td>\n",
       "      <td>unmarried</td>\n",
       "      <td>66000</td>\n",
       "      <td>...</td>\n",
       "      <td>Accura</td>\n",
       "      <td>RSX</td>\n",
       "      <td>2009</td>\n",
       "      <td>0</td>\n",
       "      <td>256</td>\n",
       "      <td>False</td>\n",
       "      <td>41-45</td>\n",
       "      <td>201-250</td>\n",
       "      <td>high</td>\n",
       "      <td>501-1000</td>\n",
       "    </tr>\n",
       "  </tbody>\n",
       "</table>\n",
       "<p>5 rows × 35 columns</p>\n",
       "</div>"
      ],
      "text/plain": [
       "  policy_state policy_csl umbrella_limit  insured_zip insured_sex  \\\n",
       "0           OH    250/500            0.0       466132        MALE   \n",
       "1           IN    250/500          other       468176        MALE   \n",
       "2           OH    MISSING          other       430632      FEMALE   \n",
       "3           IL    MISSING          other       608117      FEMALE   \n",
       "4           IL    MISSING          other       610706        MALE   \n",
       "\n",
       "  insured_education_level insured_occupation insured_hobbies  \\\n",
       "0                      MD       craft-repair           other   \n",
       "1                      MD  machine-op-inspct           other   \n",
       "2                     PhD              sales           other   \n",
       "3                     PhD       armed-forces           other   \n",
       "4               Associate              sales           other   \n",
       "\n",
       "  insured_relationship  capital-gains  ...  auto_make auto_model auto_year  \\\n",
       "0              husband          53300  ...       Saab        92x      2004   \n",
       "1       other-relative              0  ...   Mercedes       E400      2007   \n",
       "2            own-child          35100  ...      Dodge        RAM      2007   \n",
       "3            unmarried          48900  ...  Chevrolet      Tahoe      2014   \n",
       "4            unmarried          66000  ...     Accura        RSX      2009   \n",
       "\n",
       "  fraud_reported claim_day_of_policy location_check age_group  \\\n",
       "0              1                 100          False     46-50   \n",
       "1              1                3130          False     41-45   \n",
       "2              0                5282          False     26-30   \n",
       "3              1                8996          False     41-45   \n",
       "4              0                 256          False     41-45   \n",
       "\n",
       "  months_as_customer_groups  policy_annual_premium_groups  \\\n",
       "0                   301-350                        medium   \n",
       "1                   201-250                        medium   \n",
       "2                   101-150                        medium   \n",
       "3                   251-300                        medium   \n",
       "4                   201-250                          high   \n",
       "\n",
       "   policy_deductable_group  \n",
       "0                 501-1000  \n",
       "1                1501-2000  \n",
       "2                1501-2000  \n",
       "3                1501-2000  \n",
       "4                 501-1000  \n",
       "\n",
       "[5 rows x 35 columns]"
      ]
     },
     "execution_count": 6,
     "metadata": {},
     "output_type": "execute_result"
    }
   ],
   "source": [
    "df1.drop([\"incident_date\"], axis = 1, inplace = True) # örnekte train-test ayrımında kullanmıştık ama ben kullanmadım\n",
    "df1.head()"
   ]
  },
  {
   "cell_type": "code",
   "execution_count": 7,
   "id": "animal-democracy",
   "metadata": {},
   "outputs": [],
   "source": [
    "# Label Encoding işlemi\n",
    "\n",
    "df2 = df1.copy()\n",
    "le = LabelEncoder()\n",
    "for col in columns_to_encode:\n",
    "    df2[col] = le.fit_transform(df2[col]) "
   ]
  },
  {
   "cell_type": "code",
   "execution_count": 8,
   "id": "placed-density",
   "metadata": {},
   "outputs": [
    {
     "data": {
      "text/html": [
       "<div>\n",
       "<style scoped>\n",
       "    .dataframe tbody tr th:only-of-type {\n",
       "        vertical-align: middle;\n",
       "    }\n",
       "\n",
       "    .dataframe tbody tr th {\n",
       "        vertical-align: top;\n",
       "    }\n",
       "\n",
       "    .dataframe thead th {\n",
       "        text-align: right;\n",
       "    }\n",
       "</style>\n",
       "<table border=\"1\" class=\"dataframe\">\n",
       "  <thead>\n",
       "    <tr style=\"text-align: right;\">\n",
       "      <th></th>\n",
       "      <th>policy_state</th>\n",
       "      <th>policy_csl</th>\n",
       "      <th>umbrella_limit</th>\n",
       "      <th>insured_zip</th>\n",
       "      <th>insured_sex</th>\n",
       "      <th>insured_education_level</th>\n",
       "      <th>insured_occupation</th>\n",
       "      <th>insured_hobbies</th>\n",
       "      <th>insured_relationship</th>\n",
       "      <th>capital-gains</th>\n",
       "      <th>...</th>\n",
       "      <th>auto_make</th>\n",
       "      <th>auto_model</th>\n",
       "      <th>auto_year</th>\n",
       "      <th>fraud_reported</th>\n",
       "      <th>claim_day_of_policy</th>\n",
       "      <th>location_check</th>\n",
       "      <th>age_group</th>\n",
       "      <th>months_as_customer_groups</th>\n",
       "      <th>policy_annual_premium_groups</th>\n",
       "      <th>policy_deductable_group</th>\n",
       "    </tr>\n",
       "  </thead>\n",
       "  <tbody>\n",
       "    <tr>\n",
       "      <th>0</th>\n",
       "      <td>2</td>\n",
       "      <td>1</td>\n",
       "      <td>0</td>\n",
       "      <td>466132</td>\n",
       "      <td>1</td>\n",
       "      <td>4</td>\n",
       "      <td>2</td>\n",
       "      <td>2</td>\n",
       "      <td>0</td>\n",
       "      <td>53300</td>\n",
       "      <td>...</td>\n",
       "      <td>10</td>\n",
       "      <td>1</td>\n",
       "      <td>2004</td>\n",
       "      <td>1</td>\n",
       "      <td>100</td>\n",
       "      <td>0</td>\n",
       "      <td>6</td>\n",
       "      <td>5</td>\n",
       "      <td>2</td>\n",
       "      <td>2</td>\n",
       "    </tr>\n",
       "    <tr>\n",
       "      <th>1</th>\n",
       "      <td>1</td>\n",
       "      <td>1</td>\n",
       "      <td>2</td>\n",
       "      <td>468176</td>\n",
       "      <td>1</td>\n",
       "      <td>4</td>\n",
       "      <td>6</td>\n",
       "      <td>2</td>\n",
       "      <td>2</td>\n",
       "      <td>0</td>\n",
       "      <td>...</td>\n",
       "      <td>8</td>\n",
       "      <td>12</td>\n",
       "      <td>2007</td>\n",
       "      <td>1</td>\n",
       "      <td>3130</td>\n",
       "      <td>0</td>\n",
       "      <td>5</td>\n",
       "      <td>3</td>\n",
       "      <td>2</td>\n",
       "      <td>1</td>\n",
       "    </tr>\n",
       "    <tr>\n",
       "      <th>2</th>\n",
       "      <td>2</td>\n",
       "      <td>3</td>\n",
       "      <td>2</td>\n",
       "      <td>430632</td>\n",
       "      <td>0</td>\n",
       "      <td>6</td>\n",
       "      <td>11</td>\n",
       "      <td>2</td>\n",
       "      <td>3</td>\n",
       "      <td>35100</td>\n",
       "      <td>...</td>\n",
       "      <td>4</td>\n",
       "      <td>30</td>\n",
       "      <td>2007</td>\n",
       "      <td>0</td>\n",
       "      <td>5282</td>\n",
       "      <td>0</td>\n",
       "      <td>2</td>\n",
       "      <td>1</td>\n",
       "      <td>2</td>\n",
       "      <td>1</td>\n",
       "    </tr>\n",
       "    <tr>\n",
       "      <th>3</th>\n",
       "      <td>0</td>\n",
       "      <td>3</td>\n",
       "      <td>2</td>\n",
       "      <td>608117</td>\n",
       "      <td>0</td>\n",
       "      <td>6</td>\n",
       "      <td>1</td>\n",
       "      <td>2</td>\n",
       "      <td>4</td>\n",
       "      <td>48900</td>\n",
       "      <td>...</td>\n",
       "      <td>3</td>\n",
       "      <td>34</td>\n",
       "      <td>2014</td>\n",
       "      <td>1</td>\n",
       "      <td>8996</td>\n",
       "      <td>0</td>\n",
       "      <td>5</td>\n",
       "      <td>4</td>\n",
       "      <td>2</td>\n",
       "      <td>1</td>\n",
       "    </tr>\n",
       "    <tr>\n",
       "      <th>4</th>\n",
       "      <td>0</td>\n",
       "      <td>3</td>\n",
       "      <td>2</td>\n",
       "      <td>610706</td>\n",
       "      <td>1</td>\n",
       "      <td>0</td>\n",
       "      <td>11</td>\n",
       "      <td>2</td>\n",
       "      <td>4</td>\n",
       "      <td>66000</td>\n",
       "      <td>...</td>\n",
       "      <td>0</td>\n",
       "      <td>31</td>\n",
       "      <td>2009</td>\n",
       "      <td>0</td>\n",
       "      <td>256</td>\n",
       "      <td>0</td>\n",
       "      <td>5</td>\n",
       "      <td>3</td>\n",
       "      <td>0</td>\n",
       "      <td>2</td>\n",
       "    </tr>\n",
       "  </tbody>\n",
       "</table>\n",
       "<p>5 rows × 35 columns</p>\n",
       "</div>"
      ],
      "text/plain": [
       "   policy_state  policy_csl  umbrella_limit  insured_zip  insured_sex  \\\n",
       "0             2           1               0       466132            1   \n",
       "1             1           1               2       468176            1   \n",
       "2             2           3               2       430632            0   \n",
       "3             0           3               2       608117            0   \n",
       "4             0           3               2       610706            1   \n",
       "\n",
       "   insured_education_level  insured_occupation  insured_hobbies  \\\n",
       "0                        4                   2                2   \n",
       "1                        4                   6                2   \n",
       "2                        6                  11                2   \n",
       "3                        6                   1                2   \n",
       "4                        0                  11                2   \n",
       "\n",
       "   insured_relationship  capital-gains  ...  auto_make  auto_model  auto_year  \\\n",
       "0                     0          53300  ...         10           1       2004   \n",
       "1                     2              0  ...          8          12       2007   \n",
       "2                     3          35100  ...          4          30       2007   \n",
       "3                     4          48900  ...          3          34       2014   \n",
       "4                     4          66000  ...          0          31       2009   \n",
       "\n",
       "   fraud_reported  claim_day_of_policy  location_check  age_group  \\\n",
       "0               1                  100               0          6   \n",
       "1               1                 3130               0          5   \n",
       "2               0                 5282               0          2   \n",
       "3               1                 8996               0          5   \n",
       "4               0                  256               0          5   \n",
       "\n",
       "   months_as_customer_groups  policy_annual_premium_groups  \\\n",
       "0                          5                             2   \n",
       "1                          3                             2   \n",
       "2                          1                             2   \n",
       "3                          4                             2   \n",
       "4                          3                             0   \n",
       "\n",
       "   policy_deductable_group  \n",
       "0                        2  \n",
       "1                        1  \n",
       "2                        1  \n",
       "3                        1  \n",
       "4                        2  \n",
       "\n",
       "[5 rows x 35 columns]"
      ]
     },
     "execution_count": 8,
     "metadata": {},
     "output_type": "execute_result"
    }
   ],
   "source": [
    "df2.head()"
   ]
  },
  {
   "cell_type": "code",
   "execution_count": 9,
   "id": "automatic-carnival",
   "metadata": {},
   "outputs": [
    {
     "data": {
      "text/html": [
       "<div>\n",
       "<style scoped>\n",
       "    .dataframe tbody tr th:only-of-type {\n",
       "        vertical-align: middle;\n",
       "    }\n",
       "\n",
       "    .dataframe tbody tr th {\n",
       "        vertical-align: top;\n",
       "    }\n",
       "\n",
       "    .dataframe thead th {\n",
       "        text-align: right;\n",
       "    }\n",
       "</style>\n",
       "<table border=\"1\" class=\"dataframe\">\n",
       "  <thead>\n",
       "    <tr style=\"text-align: right;\">\n",
       "      <th></th>\n",
       "      <th>policy_state</th>\n",
       "      <th>policy_csl</th>\n",
       "      <th>umbrella_limit</th>\n",
       "      <th>insured_zip</th>\n",
       "      <th>insured_sex</th>\n",
       "      <th>insured_education_level</th>\n",
       "      <th>insured_occupation</th>\n",
       "      <th>insured_hobbies</th>\n",
       "      <th>insured_relationship</th>\n",
       "      <th>capital-gains</th>\n",
       "      <th>...</th>\n",
       "      <th>auto_make</th>\n",
       "      <th>auto_model</th>\n",
       "      <th>auto_year</th>\n",
       "      <th>fraud_reported</th>\n",
       "      <th>claim_day_of_policy</th>\n",
       "      <th>location_check</th>\n",
       "      <th>age_group</th>\n",
       "      <th>months_as_customer_groups</th>\n",
       "      <th>policy_annual_premium_groups</th>\n",
       "      <th>policy_deductable_group</th>\n",
       "    </tr>\n",
       "  </thead>\n",
       "  <tbody>\n",
       "    <tr>\n",
       "      <th>0</th>\n",
       "      <td>OH</td>\n",
       "      <td>250/500</td>\n",
       "      <td>0.0</td>\n",
       "      <td>466132</td>\n",
       "      <td>MALE</td>\n",
       "      <td>MD</td>\n",
       "      <td>craft-repair</td>\n",
       "      <td>other</td>\n",
       "      <td>husband</td>\n",
       "      <td>53300</td>\n",
       "      <td>...</td>\n",
       "      <td>Saab</td>\n",
       "      <td>92x</td>\n",
       "      <td>2004</td>\n",
       "      <td>1</td>\n",
       "      <td>100</td>\n",
       "      <td>False</td>\n",
       "      <td>46-50</td>\n",
       "      <td>301-350</td>\n",
       "      <td>medium</td>\n",
       "      <td>501-1000</td>\n",
       "    </tr>\n",
       "    <tr>\n",
       "      <th>1</th>\n",
       "      <td>IN</td>\n",
       "      <td>250/500</td>\n",
       "      <td>other</td>\n",
       "      <td>468176</td>\n",
       "      <td>MALE</td>\n",
       "      <td>MD</td>\n",
       "      <td>machine-op-inspct</td>\n",
       "      <td>other</td>\n",
       "      <td>other-relative</td>\n",
       "      <td>0</td>\n",
       "      <td>...</td>\n",
       "      <td>Mercedes</td>\n",
       "      <td>E400</td>\n",
       "      <td>2007</td>\n",
       "      <td>1</td>\n",
       "      <td>3130</td>\n",
       "      <td>False</td>\n",
       "      <td>41-45</td>\n",
       "      <td>201-250</td>\n",
       "      <td>medium</td>\n",
       "      <td>1501-2000</td>\n",
       "    </tr>\n",
       "    <tr>\n",
       "      <th>2</th>\n",
       "      <td>OH</td>\n",
       "      <td>MISSING</td>\n",
       "      <td>other</td>\n",
       "      <td>430632</td>\n",
       "      <td>FEMALE</td>\n",
       "      <td>PhD</td>\n",
       "      <td>sales</td>\n",
       "      <td>other</td>\n",
       "      <td>own-child</td>\n",
       "      <td>35100</td>\n",
       "      <td>...</td>\n",
       "      <td>Dodge</td>\n",
       "      <td>RAM</td>\n",
       "      <td>2007</td>\n",
       "      <td>0</td>\n",
       "      <td>5282</td>\n",
       "      <td>False</td>\n",
       "      <td>26-30</td>\n",
       "      <td>101-150</td>\n",
       "      <td>medium</td>\n",
       "      <td>1501-2000</td>\n",
       "    </tr>\n",
       "    <tr>\n",
       "      <th>3</th>\n",
       "      <td>IL</td>\n",
       "      <td>MISSING</td>\n",
       "      <td>other</td>\n",
       "      <td>608117</td>\n",
       "      <td>FEMALE</td>\n",
       "      <td>PhD</td>\n",
       "      <td>armed-forces</td>\n",
       "      <td>other</td>\n",
       "      <td>unmarried</td>\n",
       "      <td>48900</td>\n",
       "      <td>...</td>\n",
       "      <td>Chevrolet</td>\n",
       "      <td>Tahoe</td>\n",
       "      <td>2014</td>\n",
       "      <td>1</td>\n",
       "      <td>8996</td>\n",
       "      <td>False</td>\n",
       "      <td>41-45</td>\n",
       "      <td>251-300</td>\n",
       "      <td>medium</td>\n",
       "      <td>1501-2000</td>\n",
       "    </tr>\n",
       "    <tr>\n",
       "      <th>4</th>\n",
       "      <td>IL</td>\n",
       "      <td>MISSING</td>\n",
       "      <td>other</td>\n",
       "      <td>610706</td>\n",
       "      <td>MALE</td>\n",
       "      <td>Associate</td>\n",
       "      <td>sales</td>\n",
       "      <td>other</td>\n",
       "      <td>unmarried</td>\n",
       "      <td>66000</td>\n",
       "      <td>...</td>\n",
       "      <td>Accura</td>\n",
       "      <td>RSX</td>\n",
       "      <td>2009</td>\n",
       "      <td>0</td>\n",
       "      <td>256</td>\n",
       "      <td>False</td>\n",
       "      <td>41-45</td>\n",
       "      <td>201-250</td>\n",
       "      <td>high</td>\n",
       "      <td>501-1000</td>\n",
       "    </tr>\n",
       "  </tbody>\n",
       "</table>\n",
       "<p>5 rows × 35 columns</p>\n",
       "</div>"
      ],
      "text/plain": [
       "  policy_state policy_csl umbrella_limit  insured_zip insured_sex  \\\n",
       "0           OH    250/500            0.0       466132        MALE   \n",
       "1           IN    250/500          other       468176        MALE   \n",
       "2           OH    MISSING          other       430632      FEMALE   \n",
       "3           IL    MISSING          other       608117      FEMALE   \n",
       "4           IL    MISSING          other       610706        MALE   \n",
       "\n",
       "  insured_education_level insured_occupation insured_hobbies  \\\n",
       "0                      MD       craft-repair           other   \n",
       "1                      MD  machine-op-inspct           other   \n",
       "2                     PhD              sales           other   \n",
       "3                     PhD       armed-forces           other   \n",
       "4               Associate              sales           other   \n",
       "\n",
       "  insured_relationship  capital-gains  ...  auto_make auto_model auto_year  \\\n",
       "0              husband          53300  ...       Saab        92x      2004   \n",
       "1       other-relative              0  ...   Mercedes       E400      2007   \n",
       "2            own-child          35100  ...      Dodge        RAM      2007   \n",
       "3            unmarried          48900  ...  Chevrolet      Tahoe      2014   \n",
       "4            unmarried          66000  ...     Accura        RSX      2009   \n",
       "\n",
       "  fraud_reported claim_day_of_policy location_check age_group  \\\n",
       "0              1                 100          False     46-50   \n",
       "1              1                3130          False     41-45   \n",
       "2              0                5282          False     26-30   \n",
       "3              1                8996          False     41-45   \n",
       "4              0                 256          False     41-45   \n",
       "\n",
       "  months_as_customer_groups  policy_annual_premium_groups  \\\n",
       "0                   301-350                        medium   \n",
       "1                   201-250                        medium   \n",
       "2                   101-150                        medium   \n",
       "3                   251-300                        medium   \n",
       "4                   201-250                          high   \n",
       "\n",
       "   policy_deductable_group  \n",
       "0                 501-1000  \n",
       "1                1501-2000  \n",
       "2                1501-2000  \n",
       "3                1501-2000  \n",
       "4                 501-1000  \n",
       "\n",
       "[5 rows x 35 columns]"
      ]
     },
     "execution_count": 9,
     "metadata": {},
     "output_type": "execute_result"
    }
   ],
   "source": [
    "df1.head() # datasetin encode edilmemiş hali"
   ]
  },
  {
   "cell_type": "code",
   "execution_count": 10,
   "id": "hazardous-bones",
   "metadata": {},
   "outputs": [
    {
     "name": "stdout",
     "output_type": "stream",
     "text": [
      "<class 'pandas.core.frame.DataFrame'>\n",
      "RangeIndex: 1000 entries, 0 to 999\n",
      "Data columns (total 35 columns):\n",
      " #   Column                        Non-Null Count  Dtype\n",
      "---  ------                        --------------  -----\n",
      " 0   policy_state                  1000 non-null   int32\n",
      " 1   policy_csl                    1000 non-null   int32\n",
      " 2   umbrella_limit                1000 non-null   int32\n",
      " 3   insured_zip                   1000 non-null   int64\n",
      " 4   insured_sex                   1000 non-null   int32\n",
      " 5   insured_education_level       1000 non-null   int32\n",
      " 6   insured_occupation            1000 non-null   int32\n",
      " 7   insured_hobbies               1000 non-null   int32\n",
      " 8   insured_relationship          1000 non-null   int32\n",
      " 9   capital-gains                 1000 non-null   int64\n",
      " 10  capital-loss                  1000 non-null   int64\n",
      " 11  incident_type                 1000 non-null   int32\n",
      " 12  collision_type                1000 non-null   int32\n",
      " 13  incident_severity             1000 non-null   int32\n",
      " 14  authorities_contacted         1000 non-null   int32\n",
      " 15  incident_state                1000 non-null   int32\n",
      " 16  incident_city                 1000 non-null   int32\n",
      " 17  incident_location             1000 non-null   int32\n",
      " 18  incident_hour_of_the_day      1000 non-null   int64\n",
      " 19  number_of_vehicles_involved   1000 non-null   int64\n",
      " 20  property_damage               1000 non-null   int32\n",
      " 21  bodily_injuries               1000 non-null   int64\n",
      " 22  witnesses                     1000 non-null   int64\n",
      " 23  police_report_available       1000 non-null   int32\n",
      " 24  total_claim_amount            1000 non-null   int64\n",
      " 25  auto_make                     1000 non-null   int32\n",
      " 26  auto_model                    1000 non-null   int32\n",
      " 27  auto_year                     1000 non-null   int64\n",
      " 28  fraud_reported                1000 non-null   int32\n",
      " 29  claim_day_of_policy           1000 non-null   int64\n",
      " 30  location_check                1000 non-null   int32\n",
      " 31  age_group                     1000 non-null   int32\n",
      " 32  months_as_customer_groups     1000 non-null   int32\n",
      " 33  policy_annual_premium_groups  1000 non-null   int32\n",
      " 34  policy_deductable_group       1000 non-null   int32\n",
      "dtypes: int32(25), int64(10)\n",
      "memory usage: 175.9 KB\n"
     ]
    }
   ],
   "source": [
    "df2.info() # df2, veri setinin label encoding, scaling vb işlemlerden geçmiş halidir"
   ]
  },
  {
   "cell_type": "code",
   "execution_count": 11,
   "id": "olympic-lecture",
   "metadata": {},
   "outputs": [],
   "source": [
    "# verinin, feature ve target sütunları belirlenir\n",
    "\n",
    "features = []              \n",
    "for col in df2.columns:\n",
    "    if col != 'fraud_reported':\n",
    "        features.append(col)\n",
    "\n",
    "target = 'fraud_reported'\n",
    "\n",
    "X = df2[features]\n",
    "y = df2[target] # fraud bilgisini target olarak seçtik, kalan sütunlar feature olarak kullanılacak"
   ]
  },
  {
   "cell_type": "code",
   "execution_count": 12,
   "id": "spare-cleaning",
   "metadata": {},
   "outputs": [
    {
     "data": {
      "text/plain": [
       "0      1\n",
       "1      1\n",
       "2      0\n",
       "3      1\n",
       "4      0\n",
       "      ..\n",
       "995    0\n",
       "996    0\n",
       "997    0\n",
       "998    0\n",
       "999    0\n",
       "Name: fraud_reported, Length: 1000, dtype: int32"
      ]
     },
     "execution_count": 12,
     "metadata": {},
     "output_type": "execute_result"
    }
   ],
   "source": [
    "df1[\"fraud_reported\"] # non-fraud:0 , fraud:1"
   ]
  },
  {
   "cell_type": "code",
   "execution_count": 13,
   "id": "private-thread",
   "metadata": {},
   "outputs": [
    {
     "data": {
      "text/plain": [
       "0      1\n",
       "1      1\n",
       "2      0\n",
       "3      1\n",
       "4      0\n",
       "      ..\n",
       "995    0\n",
       "996    0\n",
       "997    0\n",
       "998    0\n",
       "999    0\n",
       "Name: fraud_reported, Length: 1000, dtype: int32"
      ]
     },
     "execution_count": 13,
     "metadata": {},
     "output_type": "execute_result"
    }
   ],
   "source": [
    "y # label encoding yapıldıktan sonra fraud_reported feature'ının içeriği değişmemiş"
   ]
  },
  {
   "cell_type": "code",
   "execution_count": 14,
   "id": "large-elimination",
   "metadata": {},
   "outputs": [],
   "source": [
    "# scaling işlemi yapılır\n",
    "\n",
    "from sklearn.preprocessing import StandardScaler\n",
    "\n",
    "sc = StandardScaler()\n",
    "X = sc.fit_transform(X)\n",
    "\n",
    "# label encoding yaparken herhangi bir sıralama gözetilmemişti, scaling yaparak sıra farkının azalacağını düşünüyorum."
   ]
  },
  {
   "cell_type": "code",
   "execution_count": 15,
   "id": "brief-center",
   "metadata": {},
   "outputs": [
    {
     "data": {
      "text/plain": [
       "array([[ 1.18717314, -2.36741604, -0.68928326, ...,  0.45386229,\n",
       "         0.59990229,  1.19050828],\n",
       "       [-0.01685641, -2.36741604,  1.95164878, ..., -0.28472565,\n",
       "         0.59990229, -0.01081188],\n",
       "       [ 1.18717314,  0.35062763,  1.95164878, ..., -1.02331359,\n",
       "         0.59990229, -0.01081188],\n",
       "       ...,\n",
       "       [ 1.18717314, -2.36741604,  1.95164878, ..., -1.02331359,\n",
       "         0.59990229, -1.21213204],\n",
       "       [-1.22088596, -1.0083942 ,  0.63118276, ...,  1.5617442 ,\n",
       "         0.59990229, -0.01081188],\n",
       "       [ 1.18717314,  0.35062763, -0.68928326, ...,  1.5617442 ,\n",
       "        -0.72731516,  1.19050828]])"
      ]
     },
     "execution_count": 15,
     "metadata": {},
     "output_type": "execute_result"
    }
   ],
   "source": [
    "X"
   ]
  },
  {
   "cell_type": "code",
   "execution_count": 16,
   "id": "baking-gross",
   "metadata": {},
   "outputs": [],
   "source": [
    "# train - test split ve SMOTE\n",
    "\n",
    "oversample = SMOTE(sampling_strategy = 0.7,random_state=9) # sampling oranını 0.7 yapıldı, daha az sentetik veri üretildi\n",
    "X_train, X_test, y_train, y_test = train_test_split(X, y, test_size = 0.2,  random_state = 42,stratify=y)\n",
    "X_over, y_over = oversample.fit_resample(X_train, y_train)\n",
    "X_train, X_test, y_train, y_test = train_test_split(X_over, y_over, test_size = 0.2, random_state = 1, stratify=y_over)"
   ]
  },
  {
   "cell_type": "code",
   "execution_count": 17,
   "id": "dependent-farming",
   "metadata": {},
   "outputs": [
    {
     "name": "stderr",
     "output_type": "stream",
     "text": [
      "C:\\Anaconda3\\lib\\site-packages\\seaborn\\_decorators.py:43: FutureWarning: Pass the following variable as a keyword arg: x. From version 0.12, the only valid positional argument will be `data`, and passing other arguments without an explicit keyword will result in an error or misinterpretation.\n",
      "  FutureWarning\n"
     ]
    },
    {
     "data": {
      "text/plain": [
       "<AxesSubplot:xlabel='fraud_reported', ylabel='count'>"
      ]
     },
     "execution_count": 17,
     "metadata": {},
     "output_type": "execute_result"
    },
    {
     "data": {
      "image/png": "[encoded data removed]",
      "text/plain": [
       "<Figure size 432x288 with 1 Axes>"
      ]
     },
     "metadata": {
      "needs_background": "light"
     },
     "output_type": "display_data"
    }
   ],
   "source": [
    "import seaborn as sns\n",
    "chck = pd.DataFrame()\n",
    "chck['fraud_reported'] = y_train\n",
    "\n",
    "sns.countplot(chck['fraud_reported']) # train setindeki fraud dağılımı aşağıdaki gibidir"
   ]
  },
  {
   "cell_type": "code",
   "execution_count": 18,
   "id": "acceptable-windows",
   "metadata": {},
   "outputs": [
    {
     "name": "stderr",
     "output_type": "stream",
     "text": [
      "C:\\Anaconda3\\lib\\site-packages\\seaborn\\_decorators.py:43: FutureWarning: Pass the following variable as a keyword arg: x. From version 0.12, the only valid positional argument will be `data`, and passing other arguments without an explicit keyword will result in an error or misinterpretation.\n",
      "  FutureWarning\n"
     ]
    },
    {
     "data": {
      "text/plain": [
       "<AxesSubplot:xlabel='fraud_reported', ylabel='count'>"
      ]
     },
     "execution_count": 18,
     "metadata": {},
     "output_type": "execute_result"
    },
    {
     "data": {
      "image/png": "[encoded data removed]",
      "text/plain": [
       "<Figure size 432x288 with 1 Axes>"
      ]
     },
     "metadata": {
      "needs_background": "light"
     },
     "output_type": "display_data"
    }
   ],
   "source": [
    "import seaborn as sns\n",
    "chck = pd.DataFrame()\n",
    "chck['fraud_reported'] = y_test\n",
    "\n",
    "sns.countplot(chck['fraud_reported'])  # test setindeki fraud dağılımı aşağıdaki gibidir, trainle benzer oranda bölünmüştür"
   ]
  },
  {
   "cell_type": "code",
   "execution_count": 19,
   "id": "integrated-cliff",
   "metadata": {},
   "outputs": [],
   "source": [
    "# train - validation split yapılır\n",
    "\n",
    "X_train, X_val, y_train, y_val = train_test_split(X_train, y_train, train_size = 0.8, random_state = 1, stratify = y_train)"
   ]
  },
  {
   "cell_type": "code",
   "execution_count": 20,
   "id": "modern-reading",
   "metadata": {},
   "outputs": [
    {
     "name": "stderr",
     "output_type": "stream",
     "text": [
      "C:\\Anaconda3\\lib\\site-packages\\seaborn\\_decorators.py:43: FutureWarning: Pass the following variable as a keyword arg: x. From version 0.12, the only valid positional argument will be `data`, and passing other arguments without an explicit keyword will result in an error or misinterpretation.\n",
      "  FutureWarning\n"
     ]
    },
    {
     "data": {
      "text/plain": [
       "<AxesSubplot:xlabel='fraud_reported', ylabel='count'>"
      ]
     },
     "execution_count": 20,
     "metadata": {},
     "output_type": "execute_result"
    },
    {
     "data": {
      "image/png": "[encoded data removed]",
      "text/plain": [
       "<Figure size 432x288 with 1 Axes>"
      ]
     },
     "metadata": {
      "needs_background": "light"
     },
     "output_type": "display_data"
    }
   ],
   "source": [
    "import seaborn as sns\n",
    "chck = pd.DataFrame()\n",
    "chck['fraud_reported'] = y_val\n",
    "\n",
    "sns.countplot(chck['fraud_reported']) "
   ]
  },
  {
   "cell_type": "code",
   "execution_count": 21,
   "id": "frequent-picture",
   "metadata": {},
   "outputs": [
    {
     "data": {
      "text/plain": [
       "421    0\n",
       "233    1\n",
       "38     0\n",
       "830    1\n",
       "546    0\n",
       "      ..\n",
       "909    1\n",
       "55     0\n",
       "13     0\n",
       "259    0\n",
       "99     0\n",
       "Name: fraud_reported, Length: 164, dtype: int32"
      ]
     },
     "execution_count": 21,
     "metadata": {},
     "output_type": "execute_result"
    }
   ],
   "source": [
    "y_val # validation setindeki y sayısı : 164"
   ]
  },
  {
   "cell_type": "code",
   "execution_count": 22,
   "id": "pointed-frost",
   "metadata": {},
   "outputs": [
    {
     "data": {
      "text/plain": [
       "857    1\n",
       "607    1\n",
       "138    0\n",
       "37     0\n",
       "204    0\n",
       "      ..\n",
       "770    0\n",
       "477    0\n",
       "974    1\n",
       "124    0\n",
       "529    0\n",
       "Name: fraud_reported, Length: 654, dtype: int32"
      ]
     },
     "execution_count": 22,
     "metadata": {},
     "output_type": "execute_result"
    }
   ],
   "source": [
    "y_train  # train setindeki y sayısı : 654"
   ]
  },
  {
   "cell_type": "code",
   "execution_count": 23,
   "id": "cheap-economics",
   "metadata": {},
   "outputs": [
    {
     "data": {
      "text/plain": [
       "186    0\n",
       "752    0\n",
       "865    1\n",
       "632    0\n",
       "615    0\n",
       "      ..\n",
       "653    0\n",
       "250    0\n",
       "426    0\n",
       "499    0\n",
       "270    0\n",
       "Name: fraud_reported, Length: 205, dtype: int32"
      ]
     },
     "execution_count": 23,
     "metadata": {},
     "output_type": "execute_result"
    }
   ],
   "source": [
    "y_test   # test setindeki y sayısı : 205"
   ]
  },
  {
   "cell_type": "code",
   "execution_count": 24,
   "id": "affiliated-floor",
   "metadata": {},
   "outputs": [
    {
     "data": {
      "text/plain": [
       "1023"
      ]
     },
     "execution_count": 24,
     "metadata": {},
     "output_type": "execute_result"
    }
   ],
   "source": [
    "len(X_over) # train+validation+test = 654+164+205 = 1023, verimizi düzgünce böldük"
   ]
  },
  {
   "cell_type": "code",
   "execution_count": 25,
   "id": "upper-bacteria",
   "metadata": {},
   "outputs": [
    {
     "name": "stdout",
     "output_type": "stream",
     "text": [
      "0.8292682926829268\n"
     ]
    }
   ],
   "source": [
    "# Logistic Regression ile model kurma\n",
    "\n",
    "# training\n",
    "\n",
    "from sklearn.linear_model import LogisticRegression\n",
    "\n",
    "lr = LogisticRegression()\n",
    "\n",
    "lr.fit(X_train, y_train)\n",
    "preds = lr.predict(X_test)\n",
    "\n",
    "score = lr.score(X_test, y_test)\n",
    "print(score)"
   ]
  },
  {
   "cell_type": "code",
   "execution_count": 26,
   "id": "oriental-reliance",
   "metadata": {},
   "outputs": [
    {
     "name": "stdout",
     "output_type": "stream",
     "text": [
      "              precision    recall  f1-score   support\n",
      "\n",
      "           0       0.86      0.84      0.85       121\n",
      "           1       0.78      0.81      0.80        84\n",
      "\n",
      "    accuracy                           0.83       205\n",
      "   macro avg       0.82      0.83      0.82       205\n",
      "weighted avg       0.83      0.83      0.83       205\n",
      "\n"
     ]
    }
   ],
   "source": [
    "print(classification_report(y_test, preds))"
   ]
  },
  {
   "cell_type": "code",
   "execution_count": 27,
   "id": "reflected-footage",
   "metadata": {},
   "outputs": [
    {
     "data": {
      "text/plain": [
       "<AxesSubplot:>"
      ]
     },
     "execution_count": 27,
     "metadata": {},
     "output_type": "execute_result"
    },
    {
     "data": {
      "image/png": "[encoded data removed]",
      "text/plain": [
       "<Figure size 432x288 with 2 Axes>"
      ]
     },
     "metadata": {
      "needs_background": "light"
     },
     "output_type": "display_data"
    }
   ],
   "source": [
    "cm = confusion_matrix(y_test, preds)\n",
    "sns\n",
    "sns.heatmap(cm, annot=True)"
   ]
  },
  {
   "cell_type": "markdown",
   "id": "tutorial-thriller",
   "metadata": {},
   "source": [
    "Confusion Matrix'e bakılarak; aslında fraud olmayan 16 case'e fraud demiş, fraud olan 19 case'e ise fraud değil diye sınıflandırmıştır."
   ]
  },
  {
   "cell_type": "code",
   "execution_count": 28,
   "id": "apart-beverage",
   "metadata": {},
   "outputs": [
    {
     "name": "stdout",
     "output_type": "stream",
     "text": [
      "0.8170731707317073\n"
     ]
    }
   ],
   "source": [
    "# validation\n",
    "\n",
    "preds = lr.predict(X_val)\n",
    "\n",
    "score = lr.score(X_val, y_val)\n",
    "print(score)"
   ]
  },
  {
   "cell_type": "code",
   "execution_count": 30,
   "id": "quality-headset",
   "metadata": {},
   "outputs": [
    {
     "name": "stdout",
     "output_type": "stream",
     "text": [
      "              precision    recall  f1-score   support\n",
      "\n",
      "           0       0.84      0.84      0.84        96\n",
      "           1       0.78      0.78      0.78        68\n",
      "\n",
      "    accuracy                           0.82       164\n",
      "   macro avg       0.81      0.81      0.81       164\n",
      "weighted avg       0.82      0.82      0.82       164\n",
      "\n"
     ]
    }
   ],
   "source": [
    "print(classification_report(y_val, preds))"
   ]
  },
  {
   "cell_type": "code",
   "execution_count": 32,
   "id": "behind-disposition",
   "metadata": {},
   "outputs": [
    {
     "data": {
      "text/plain": [
       "<AxesSubplot:>"
      ]
     },
     "execution_count": 32,
     "metadata": {},
     "output_type": "execute_result"
    },
    {
     "data": {
      "image/png": "[encoded data removed]",
      "text/plain": [
       "<Figure size 432x288 with 2 Axes>"
      ]
     },
     "metadata": {
      "needs_background": "light"
     },
     "output_type": "display_data"
    }
   ],
   "source": [
    "cm = confusion_matrix(y_val, preds)\n",
    "sns\n",
    "sns.heatmap(cm, annot=True)"
   ]
  },
  {
   "cell_type": "markdown",
   "id": "laughing-round",
   "metadata": {},
   "source": [
    "Modelin Fraud'ları (1) tahmin etme doğruluğu test setinde %80'ken validation setinde %78'e düşmüştür.\n",
    "Modelin genel başarısı test setinde %83 iken validation setinde %82'ye düşmüştür."
   ]
  }
 ],
 "metadata": {
  "kernelspec": {
   "display_name": "Python 3",
   "language": "python",
   "name": "python3"
  },
  "language_info": {
   "codemirror_mode": {
    "name": "ipython",
    "version": 3
   },
   "file_extension": ".py",
   "mimetype": "text/x-python",
   "name": "python",
   "nbconvert_exporter": "python",
   "pygments_lexer": "ipython3",
   "version": "3.7.1"
  }
 },
 "nbformat": 4,
 "nbformat_minor": 5
}
